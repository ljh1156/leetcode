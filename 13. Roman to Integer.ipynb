{
 "cells": [
  {
   "cell_type": "code",
   "execution_count": 1,
   "id": "5f24d940",
   "metadata": {},
   "outputs": [],
   "source": [
    "from typing import List"
   ]
  },
  {
   "cell_type": "code",
   "execution_count": 44,
   "id": "e732244f",
   "metadata": {},
   "outputs": [],
   "source": [
    "class Solution:\n",
    "    def romanToInt(self, s: str) -> int:\n",
    "        answer = 0\n",
    "\n",
    "        #print(s)\n",
    "        s1 = s\n",
    "        s2 = s1.replace(\"CM\", \"\")\n",
    "        #print(s2)\n",
    "        if s1 != s2 : \n",
    "            answer += 900\n",
    "            s1 = s2\n",
    "        #print(answer)\n",
    "        #print(s1)\n",
    "        s2 = s1.replace(\"CD\", \"\")\n",
    "        if s1 != s2 : \n",
    "            answer += 400\n",
    "            s1 = s2\n",
    "        s2 = s1.replace(\"XC\", \"\")\n",
    "        #print(s2)\n",
    "        if s1 != s2 : \n",
    "            answer += 90\n",
    "            s1 = s2\n",
    "        s2 = s1.replace(\"XL\", \"\")\n",
    "        if s1 != s2 : \n",
    "            answer += 40\n",
    "            s1 = s2\n",
    "        s2 = s1.replace(\"IX\", \"\")\n",
    "        if s1 != s2 : \n",
    "            answer += 9\n",
    "            s1 = s2\n",
    "        s2 = s1.replace(\"IV\", \"\")\n",
    "        if s1 != s2 : \n",
    "            answer += 4\n",
    "            s1 = s2\n",
    "        \n",
    "        #print(s)\n",
    "        \n",
    "        for c in s1:\n",
    "            if c == 'I':\n",
    "                answer += 1\n",
    "            if c == 'V':\n",
    "                answer += 5\n",
    "            if c == 'X':\n",
    "                answer += 10\n",
    "            if c == 'L':\n",
    "                answer += 50\n",
    "            if c == 'C':\n",
    "                answer += 100\n",
    "            if c == 'D':\n",
    "                answer += 500\n",
    "            if c == 'M':\n",
    "                answer += 1000\n",
    "                \n",
    "        return answer\n"
   ]
  },
  {
   "cell_type": "code",
   "execution_count": 45,
   "id": "1c82bc7d",
   "metadata": {
    "scrolled": true
   },
   "outputs": [
    {
     "name": "stdout",
     "output_type": "stream",
     "text": [
      "3\n",
      "58\n",
      "1994\n"
     ]
    }
   ],
   "source": [
    "solution = Solution()\n",
    "solution.romanToInt(\"III\")\n",
    "solution.romanToInt(\"LVIII\")\n",
    "solution.romanToInt(\"MCMXCIV\")\n",
    "\n"
   ]
  },
  {
   "cell_type": "code",
   "execution_count": null,
   "id": "7488e598",
   "metadata": {},
   "outputs": [],
   "source": []
  },
  {
   "cell_type": "code",
   "execution_count": null,
   "id": "c2268f5c",
   "metadata": {},
   "outputs": [],
   "source": []
  }
 ],
 "metadata": {
  "kernelspec": {
   "display_name": "Python 3 (ipykernel)",
   "language": "python",
   "name": "python3"
  },
  "language_info": {
   "codemirror_mode": {
    "name": "ipython",
    "version": 3
   },
   "file_extension": ".py",
   "mimetype": "text/x-python",
   "name": "python",
   "nbconvert_exporter": "python",
   "pygments_lexer": "ipython3",
   "version": "3.10.6"
  }
 },
 "nbformat": 4,
 "nbformat_minor": 5
}
