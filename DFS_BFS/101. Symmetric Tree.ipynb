{
 "cells": [
  {
   "cell_type": "code",
   "execution_count": 1,
   "id": "7c0719a0",
   "metadata": {},
   "outputs": [],
   "source": [
    "from typing import *"
   ]
  },
  {
   "cell_type": "code",
   "execution_count": 2,
   "id": "fe9c68f3",
   "metadata": {},
   "outputs": [],
   "source": [
    "class TreeNode:\n",
    "    def __init__(self, val=0, left=None, right=None):\n",
    "        self.val = val\n",
    "        self.left = left\n",
    "        self.right = right"
   ]
  },
  {
   "cell_type": "code",
   "execution_count": 3,
   "id": "90ffb16f",
   "metadata": {},
   "outputs": [],
   "source": [
    "def makeTree(root, idx):\n",
    "    if len(root) == 0:\n",
    "        return None\n",
    "    if root[idx] == None:\n",
    "        return None\n",
    "    node = TreeNode(\n",
    "        val = root[idx]\n",
    "    )\n",
    "    if idx*2+1 < len(root):\n",
    "        node.left = makeTree(root, idx*2+1)\n",
    "    else:\n",
    "        node.left = None\n",
    "    if idx*2+2 < len(root):\n",
    "        node.right = makeTree(root, idx*2+2)\n",
    "    else:\n",
    "        node.right = None\n",
    "    return node"
   ]
  },
  {
   "cell_type": "code",
   "execution_count": 7,
   "id": "ea6a51e4",
   "metadata": {},
   "outputs": [],
   "source": [
    "class Solution:\n",
    "    def isSymmetric(self, root: Optional[TreeNode]) -> bool:\n",
    "        \n",
    "        def isSymm(p, q):\n",
    "\n",
    "            print(\"{}:{}\".format(p.val, q.val))\n",
    "            print(\"{}:{}\".format(p.left, q.left))\n",
    "            print(\"{}:{}\".format(p.right, q.right))\n",
    "            \n",
    "            l = r = True\n",
    "            if p.val != q.val:\n",
    "                return False\n",
    "            elif p.left == None and q.right != None:\n",
    "                return False\n",
    "            elif p.left != None and q.right == None:\n",
    "                return False\n",
    "            elif p.right == None and q.left != None:\n",
    "                return False\n",
    "            elif p.right != None and q.left == None:\n",
    "                return False\n",
    "            if p.left != None and q.right != None:\n",
    "                print(\"left\")\n",
    "                l = isSymm(p.left, q.right)\n",
    "            if p.right != None and q.left != None:\n",
    "                print(\"right\")\n",
    "                r = isSymm(p.right, q.left)\n",
    "            if l == False or r == False:\n",
    "                return False\n",
    "            return True\n",
    "        \n",
    "        if root.left == None and root.right == None:\n",
    "            return True\n",
    "        elif root.left == None:\n",
    "            return False\n",
    "        elif root.right == None:\n",
    "            return False\n",
    "        \n",
    "        return isSymm(root.left, root.right)\n",
    "        \n",
    "        return "
   ]
  },
  {
   "cell_type": "code",
   "execution_count": 10,
   "id": "409f491f",
   "metadata": {},
   "outputs": [
    {
     "name": "stdout",
     "output_type": "stream",
     "text": [
      "2:2\n",
      "None:None\n",
      "<__main__.TreeNode object at 0x7f76dc3c9c30>:<__main__.TreeNode object at 0x7f76dc3cb2e0>\n"
     ]
    },
    {
     "data": {
      "text/plain": [
       "False"
      ]
     },
     "execution_count": 10,
     "metadata": {},
     "output_type": "execute_result"
    }
   ],
   "source": [
    "root = makeTree(\n",
    "    [1,2,2,None,3,None,3], 0\n",
    ")\n",
    "#traversal(root)\n",
    "sol = Solution()\n",
    "sol.isSymmetric(root)"
   ]
  },
  {
   "cell_type": "code",
   "execution_count": null,
   "id": "f757ebb5",
   "metadata": {},
   "outputs": [],
   "source": []
  }
 ],
 "metadata": {
  "kernelspec": {
   "display_name": "Python 3 (ipykernel)",
   "language": "python",
   "name": "python3"
  },
  "language_info": {
   "codemirror_mode": {
    "name": "ipython",
    "version": 3
   },
   "file_extension": ".py",
   "mimetype": "text/x-python",
   "name": "python",
   "nbconvert_exporter": "python",
   "pygments_lexer": "ipython3",
   "version": "3.10.6"
  }
 },
 "nbformat": 4,
 "nbformat_minor": 5
}
