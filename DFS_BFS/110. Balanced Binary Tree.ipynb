{
 "cells": [
  {
   "cell_type": "code",
   "execution_count": 1,
   "id": "d0eaaf98",
   "metadata": {},
   "outputs": [],
   "source": [
    "from typing import *"
   ]
  },
  {
   "cell_type": "code",
   "execution_count": 2,
   "id": "47fa88df",
   "metadata": {},
   "outputs": [],
   "source": [
    "class TreeNode:\n",
    "    def __init__(self, val=0, left=None, right=None):\n",
    "        self.val = val\n",
    "        self.left = left\n",
    "        self.right = right"
   ]
  },
  {
   "cell_type": "code",
   "execution_count": 3,
   "id": "70967520",
   "metadata": {},
   "outputs": [],
   "source": [
    "def makeTree(root, idx):\n",
    "    if len(root) == 0:\n",
    "        return None\n",
    "    if root[idx] == None:\n",
    "        return None\n",
    "    node = TreeNode(\n",
    "        val = root[idx]\n",
    "    )\n",
    "    if idx*2+1 < len(root):\n",
    "        node.left = makeTree(root, idx*2+1)\n",
    "    else:\n",
    "        node.left = None\n",
    "    if idx*2+2 < len(root):\n",
    "        node.right = makeTree(root, idx*2+2)\n",
    "    else:\n",
    "        node.right = None\n",
    "    return node"
   ]
  },
  {
   "cell_type": "code",
   "execution_count": 24,
   "id": "3e87c56a",
   "metadata": {},
   "outputs": [],
   "source": [
    "class Solution:\n",
    "    def isBalanced(self, root: Optional[TreeNode]) -> bool:\n",
    "        \n",
    "        def isBal(node):\n",
    "            print(\"{}:{}:{}\".format(node.val, node.left, node.right))\n",
    "            l_depth = r_depth = 1\n",
    "            l_bal = r_bal = True\n",
    "            \n",
    "            if node.left != None:\n",
    "                #print(\"left:\")\n",
    "                l_bal, depth = isBal(node.left)\n",
    "                l_depth += depth\n",
    "            if node.right != None:\n",
    "                r_bal, depth = isBal(node.right)\n",
    "                r_depth += depth\n",
    "                \n",
    "            if l_depth > r_depth: \n",
    "                max_depth = l_depth\n",
    "            else:\n",
    "                max_depth = r_depth\n",
    "                \n",
    "            if l_bal == False or r_bal == False:\n",
    "                print(\"false\")\n",
    "                return False, max_depth\n",
    "            \n",
    "            print(\"{}:{}\".format(l_depth, r_depth))\n",
    "            if l_depth > (r_depth + 1) or r_depth > (l_depth + 1):\n",
    "                print(\"false\")\n",
    "                return False, max_depth\n",
    "            \n",
    "            print(\"true\")\n",
    "            print(\"max_depth\")\n",
    "            return True, max_depth\n",
    "        \n",
    "        if root == None:\n",
    "            return True\n",
    "        \n",
    "        ret, max_depth = isBal(root)\n",
    "        print(max_depth)\n",
    "        return ret\n"
   ]
  },
  {
   "cell_type": "code",
   "execution_count": 25,
   "id": "491029af",
   "metadata": {},
   "outputs": [
    {
     "data": {
      "text/plain": [
       "True"
      ]
     },
     "execution_count": 25,
     "metadata": {},
     "output_type": "execute_result"
    }
   ],
   "source": [
    "root = makeTree(\n",
    "    [], 0\n",
    ")\n",
    "\n",
    "sol = Solution()\n",
    "sol.isBalanced(root)"
   ]
  },
  {
   "cell_type": "code",
   "execution_count": null,
   "id": "761c4bed",
   "metadata": {},
   "outputs": [],
   "source": []
  }
 ],
 "metadata": {
  "kernelspec": {
   "display_name": "Python 3 (ipykernel)",
   "language": "python",
   "name": "python3"
  },
  "language_info": {
   "codemirror_mode": {
    "name": "ipython",
    "version": 3
   },
   "file_extension": ".py",
   "mimetype": "text/x-python",
   "name": "python",
   "nbconvert_exporter": "python",
   "pygments_lexer": "ipython3",
   "version": "3.10.6"
  }
 },
 "nbformat": 4,
 "nbformat_minor": 5
}
