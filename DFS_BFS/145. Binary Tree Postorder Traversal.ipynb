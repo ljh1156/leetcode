{
 "cells": [
  {
   "cell_type": "code",
   "execution_count": 1,
   "id": "08ac59f7",
   "metadata": {},
   "outputs": [],
   "source": [
    "from typing import *"
   ]
  },
  {
   "cell_type": "code",
   "execution_count": 2,
   "id": "734e2a36",
   "metadata": {},
   "outputs": [],
   "source": [
    "class TreeNode:\n",
    "    def __init__(self, val=0, left=None, right=None):\n",
    "        self.val = val\n",
    "        self.left = left\n",
    "        self.right = right\n",
    "        \n",
    "def makeTree(string):    \n",
    "    nodes = []\n",
    "    if string == '[]':\n",
    "        return None\n",
    "    string = string.strip('[]')\n",
    "    for val in string.split(','):\n",
    "        if val == 'null':\n",
    "            nodes.append(None)\n",
    "        else:\n",
    "            nodes.append(\n",
    "                TreeNode(\n",
    "                    val = int(val)\n",
    "                )\n",
    "            )\n",
    "    kids = nodes[::-1]\n",
    "    root = kids.pop()\n",
    "    for node in nodes:\n",
    "        if node != None:\n",
    "            if kids:\n",
    "                node.left = kids.pop()\n",
    "            if kids:\n",
    "                node.right = kids.pop()\n",
    "    return root\n"
   ]
  },
  {
   "cell_type": "code",
   "execution_count": 4,
   "id": "527577af",
   "metadata": {},
   "outputs": [],
   "source": [
    "class Solution:\n",
    "    def postorderTraversal(self, root: Optional[TreeNode]) -> List[int]:\n",
    "        def traversal(node):\n",
    "            result = []\n",
    "            if node.left:\n",
    "                result += traversal(node.left)\n",
    "            if node.right:\n",
    "                result += traversal(node.right)\n",
    "            result.append(node.val)\n",
    "            return result\n",
    "        if root == None:\n",
    "            return []\n",
    "        return traversal(root)\n",
    "        "
   ]
  },
  {
   "cell_type": "code",
   "execution_count": 6,
   "id": "72f2342c",
   "metadata": {},
   "outputs": [
    {
     "data": {
      "text/plain": [
       "[]"
      ]
     },
     "execution_count": 6,
     "metadata": {},
     "output_type": "execute_result"
    }
   ],
   "source": [
    "root = makeTree(\n",
    "    \"[]\"\n",
    ")\n",
    "sol = Solution()\n",
    "sol.postorderTraversal(\n",
    "    root = root\n",
    ")"
   ]
  },
  {
   "cell_type": "code",
   "execution_count": null,
   "id": "597d887e",
   "metadata": {},
   "outputs": [],
   "source": []
  }
 ],
 "metadata": {
  "kernelspec": {
   "display_name": "Python 3 (ipykernel)",
   "language": "python",
   "name": "python3"
  },
  "language_info": {
   "codemirror_mode": {
    "name": "ipython",
    "version": 3
   },
   "file_extension": ".py",
   "mimetype": "text/x-python",
   "name": "python",
   "nbconvert_exporter": "python",
   "pygments_lexer": "ipython3",
   "version": "3.10.6"
  }
 },
 "nbformat": 4,
 "nbformat_minor": 5
}
