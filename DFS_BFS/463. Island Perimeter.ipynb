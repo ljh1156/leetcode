{
 "cells": [
  {
   "cell_type": "code",
   "execution_count": 77,
   "id": "05be86a0",
   "metadata": {},
   "outputs": [],
   "source": [
    "from typing import *\n",
    "import copy"
   ]
  },
  {
   "cell_type": "code",
   "execution_count": 80,
   "id": "fc043cef",
   "metadata": {},
   "outputs": [],
   "source": [
    "class Solution:\n",
    "    def islandPerimeter(self, grid: List[List[int]]) -> int:\n",
    "        \n",
    "        def go(grid, history, row_len, col_len, row_idx, col_idx, perimeter):\n",
    "            #print(\"idx:{}:{}:{}\".format(row_idx, col_idx, perimeter))\n",
    "            history[row_idx][col_idx] = 0\n",
    "            #print(grid)\n",
    "            #print(history)\n",
    "            #상\n",
    "            if row_idx > 0:\n",
    "                if grid[row_idx - 1][col_idx] == 0:\n",
    "                    perimeter[0] += 1\n",
    "                elif history[row_idx - 1][col_idx] != 0:\n",
    "                    #print(\"idx:{}:{}:{}:위로\".format(row_idx, col_idx, perimeter))\n",
    "                    go(grid, history, row_len, col_len, row_idx - 1, col_idx, perimeter)\n",
    "            else:\n",
    "                perimeter[0] += 1\n",
    "            #하\n",
    "            if row_idx + 1 < row_len:\n",
    "                if grid[row_idx + 1][col_idx] == 0:\n",
    "                    perimeter[0] += 1\n",
    "                elif history[row_idx + 1][col_idx] != 0:\n",
    "                    #print(\"idx:{}:{}:{}:아래로\".format(row_idx, col_idx, perimeter))\n",
    "                    go(grid, history, row_len, col_len, row_idx + 1, col_idx, perimeter)\n",
    "            else:\n",
    "                perimeter[0] += 1\n",
    "            #좌\n",
    "            if col_idx > 0:\n",
    "                if grid[row_idx][col_idx - 1] == 0:\n",
    "                    perimeter[0] += 1\n",
    "                elif history[row_idx][col_idx - 1] != 0:\n",
    "                    #print(\"idx:{}:{}:{}:좌로\".format(row_idx, col_idx, perimeter))\n",
    "                    go(grid, history, row_len, col_len, row_idx, col_idx - 1, perimeter)\n",
    "            else:\n",
    "                perimeter[0] += 1\n",
    "            #우            \n",
    "            if col_idx + 1 < col_len:\n",
    "                if grid[row_idx][col_idx + 1] == 0:\n",
    "                    perimeter[0] += 1\n",
    "                elif history[row_idx][col_idx + 1] != 0:\n",
    "                    #print(\"idx:{}:{}:{}:우로\".format(row_idx, col_idx, perimeter))\n",
    "                    go(grid, history, row_len, col_len, row_idx, col_idx + 1, perimeter)\n",
    "            else:\n",
    "                perimeter[0] += 1\n",
    "            #history[row_idx][col_idx] = 1\n",
    "            \n",
    "        row_len = len(grid)\n",
    "        col_len = len(grid[0])\n",
    "        history = copy.deepcopy(grid)\n",
    "        perimeter = [0]\n",
    "        for i in range(0, row_len):\n",
    "            for j in range(0, col_len):\n",
    "                if grid[i][j] == 1:\n",
    "                    go(grid, history, row_len, col_len, i, j, perimeter)\n",
    "                    return perimeter[0]\n",
    "            \n",
    "        return 0"
   ]
  },
  {
   "cell_type": "code",
   "execution_count": 82,
   "id": "a9df0798",
   "metadata": {},
   "outputs": [
    {
     "name": "stdout",
     "output_type": "stream",
     "text": [
      "idx:0:1:[0]\n",
      "[[0, 1, 0, 0], [1, 1, 1, 0], [0, 1, 0, 0], [1, 1, 0, 0]]\n",
      "[[0, 0, 0, 0], [1, 1, 1, 0], [0, 1, 0, 0], [1, 1, 0, 0]]\n",
      "idx:0:1:[1]:아래로\n",
      "idx:1:1:[1]\n",
      "[[0, 1, 0, 0], [1, 1, 1, 0], [0, 1, 0, 0], [1, 1, 0, 0]]\n",
      "[[0, 0, 0, 0], [1, 0, 1, 0], [0, 1, 0, 0], [1, 1, 0, 0]]\n",
      "idx:1:1:[1]:아래로\n",
      "idx:2:1:[1]\n",
      "[[0, 1, 0, 0], [1, 1, 1, 0], [0, 1, 0, 0], [1, 1, 0, 0]]\n",
      "[[0, 0, 0, 0], [1, 0, 1, 0], [0, 0, 0, 0], [1, 1, 0, 0]]\n",
      "idx:2:1:[1]:아래로\n",
      "idx:3:1:[1]\n",
      "[[0, 1, 0, 0], [1, 1, 1, 0], [0, 1, 0, 0], [1, 1, 0, 0]]\n",
      "[[0, 0, 0, 0], [1, 0, 1, 0], [0, 0, 0, 0], [1, 0, 0, 0]]\n",
      "idx:3:1:[2]:좌로\n",
      "idx:3:0:[2]\n",
      "[[0, 1, 0, 0], [1, 1, 1, 0], [0, 1, 0, 0], [1, 1, 0, 0]]\n",
      "[[0, 0, 0, 0], [1, 0, 1, 0], [0, 0, 0, 0], [0, 0, 0, 0]]\n",
      "idx:1:1:[8]:좌로\n",
      "idx:1:0:[8]\n",
      "[[0, 1, 0, 0], [1, 1, 1, 0], [0, 1, 0, 0], [1, 1, 0, 0]]\n",
      "[[0, 0, 0, 0], [0, 0, 1, 0], [0, 0, 0, 0], [0, 0, 0, 0]]\n",
      "idx:1:1:[11]:우로\n",
      "idx:1:2:[11]\n",
      "[[0, 1, 0, 0], [1, 1, 1, 0], [0, 1, 0, 0], [1, 1, 0, 0]]\n",
      "[[0, 0, 0, 0], [0, 0, 0, 0], [0, 0, 0, 0], [0, 0, 0, 0]]\n"
     ]
    },
    {
     "data": {
      "text/plain": [
       "16"
      ]
     },
     "execution_count": 82,
     "metadata": {},
     "output_type": "execute_result"
    }
   ],
   "source": [
    "\n",
    "sol = Solution()\n",
    "sol.islandPerimeter(\n",
    "    grid = [[0,1,0,0],[1,1,1,0],[0,1,0,0],[1,1,0,0]]\n",
    ")"
   ]
  },
  {
   "cell_type": "code",
   "execution_count": null,
   "id": "c760866f",
   "metadata": {},
   "outputs": [],
   "source": []
  },
  {
   "cell_type": "code",
   "execution_count": null,
   "id": "b188da7e",
   "metadata": {},
   "outputs": [],
   "source": []
  }
 ],
 "metadata": {
  "kernelspec": {
   "display_name": "Python 3 (ipykernel)",
   "language": "python",
   "name": "python3"
  },
  "language_info": {
   "codemirror_mode": {
    "name": "ipython",
    "version": 3
   },
   "file_extension": ".py",
   "mimetype": "text/x-python",
   "name": "python",
   "nbconvert_exporter": "python",
   "pygments_lexer": "ipython3",
   "version": "3.10.6"
  }
 },
 "nbformat": 4,
 "nbformat_minor": 5
}
