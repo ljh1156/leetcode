{
 "cells": [
  {
   "cell_type": "code",
   "execution_count": 1,
   "id": "8e6fd547",
   "metadata": {},
   "outputs": [],
   "source": [
    "from typing import *"
   ]
  },
  {
   "cell_type": "code",
   "execution_count": 2,
   "id": "47cb8bd8",
   "metadata": {},
   "outputs": [],
   "source": [
    "class TreeNode:\n",
    "    def __init__(self, val=0, left=None, right=None):\n",
    "        self.val = val\n",
    "        self.left = left\n",
    "        self.right = right\n",
    "        \n",
    "def makeTree(string):    \n",
    "    nodes = []\n",
    "    if string == '[]':\n",
    "        return None\n",
    "    string = string.strip('[]')\n",
    "    for val in string.split(','):\n",
    "        if val == 'null':\n",
    "            nodes.append(None)\n",
    "        else:\n",
    "            nodes.append(\n",
    "                TreeNode(\n",
    "                    val = int(val)\n",
    "                )\n",
    "            )\n",
    "    kids = nodes[::-1]\n",
    "    root = kids.pop()\n",
    "    for node in nodes:\n",
    "        if node != None:\n",
    "            if kids:\n",
    "                node.left = kids.pop()\n",
    "            if kids:\n",
    "                node.right = kids.pop()\n",
    "    return root\n"
   ]
  },
  {
   "cell_type": "code",
   "execution_count": 35,
   "id": "cf6a5aac",
   "metadata": {},
   "outputs": [],
   "source": [
    "class Solution:\n",
    "    def getMinimumDifference(self, root: Optional[TreeNode]) -> int:\n",
    "        minimum = 1000001\n",
    "        \n",
    "        def getDiff(history, val):\n",
    "            #print(\"{}:{}\".format(history,val))\n",
    "            dif = 1000001\n",
    "            for value in history:\n",
    "                diff = abs(value - val)\n",
    "                if diff < dif:\n",
    "                    dif = diff\n",
    "            return dif\n",
    "        \n",
    "        def getMin(node, minimum:int, history) -> int:\n",
    "            #print(node.val)\n",
    "            #print(node.left)\n",
    "            #print(node.right)\n",
    "            \n",
    "            history.append(node.val)\n",
    "            #print(history)\n",
    "            #print(minimum)\n",
    "            \n",
    "            if node.left != None:\n",
    "                #print(\"left\")\n",
    "                diff = getDiff(history, node.left.val)\n",
    "                if diff < minimum:\n",
    "                    minimum = diff\n",
    "                diff = getMin(node.left, minimum, history)\n",
    "                if diff < minimum:\n",
    "                    minimum = diff\n",
    "            if node.right != None:\n",
    "                #print(\"right\")\n",
    "                diff = getDiff(history, node.right.val)\n",
    "                if diff < minimum:\n",
    "                    minimum = diff\n",
    "                diff = getMin(node.right, minimum, history)\n",
    "                if diff < minimum:\n",
    "                    minimum = diff\n",
    "            history.pop()\n",
    "                    \n",
    "            return minimum\n",
    "                \n",
    "        return getMin(root, minimum, [])\n",
    "        \n",
    "        \n",
    "        "
   ]
  },
  {
   "cell_type": "code",
   "execution_count": 36,
   "id": "154f1380",
   "metadata": {},
   "outputs": [
    {
     "data": {
      "text/plain": [
       "9"
      ]
     },
     "execution_count": 36,
     "metadata": {},
     "output_type": "execute_result"
    }
   ],
   "source": [
    "root = makeTree(\n",
    "    \"[236,104,701,null,227,null,911]\"\n",
    ")\n",
    "sol = Solution()\n",
    "sol.getMinimumDifference(\n",
    "    root = root\n",
    ")"
   ]
  },
  {
   "cell_type": "code",
   "execution_count": null,
   "id": "457f716a",
   "metadata": {},
   "outputs": [],
   "source": []
  },
  {
   "cell_type": "code",
   "execution_count": null,
   "id": "b3e223d9",
   "metadata": {},
   "outputs": [],
   "source": []
  }
 ],
 "metadata": {
  "kernelspec": {
   "display_name": "Python 3 (ipykernel)",
   "language": "python",
   "name": "python3"
  },
  "language_info": {
   "codemirror_mode": {
    "name": "ipython",
    "version": 3
   },
   "file_extension": ".py",
   "mimetype": "text/x-python",
   "name": "python",
   "nbconvert_exporter": "python",
   "pygments_lexer": "ipython3",
   "version": "3.10.6"
  }
 },
 "nbformat": 4,
 "nbformat_minor": 5
}
