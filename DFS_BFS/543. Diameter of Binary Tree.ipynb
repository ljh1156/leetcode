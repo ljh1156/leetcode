{
 "cells": [
  {
   "cell_type": "code",
   "execution_count": 1,
   "id": "d83a12b9",
   "metadata": {},
   "outputs": [],
   "source": [
    "from typing import *"
   ]
  },
  {
   "cell_type": "code",
   "execution_count": 2,
   "id": "0c846566",
   "metadata": {},
   "outputs": [],
   "source": [
    "class TreeNode:\n",
    "    def __init__(self, val=0, left=None, right=None):\n",
    "        self.val = val\n",
    "        self.left = left\n",
    "        self.right = right\n",
    "        \n",
    "def makeTree(string):    \n",
    "    nodes = []\n",
    "    if string == '[]':\n",
    "        return None\n",
    "    string = string.strip('[]')\n",
    "    for val in string.split(','):\n",
    "        if val == 'null':\n",
    "            nodes.append(None)\n",
    "        else:\n",
    "            nodes.append(\n",
    "                TreeNode(\n",
    "                    val = int(val)\n",
    "                )\n",
    "            )\n",
    "    kids = nodes[::-1]\n",
    "    root = kids.pop()\n",
    "    for node in nodes:\n",
    "        if node != None:\n",
    "            if kids:\n",
    "                node.left = kids.pop()\n",
    "            if kids:\n",
    "                node.right = kids.pop()\n",
    "    return root\n"
   ]
  },
  {
   "cell_type": "code",
   "execution_count": 21,
   "id": "68aeb222",
   "metadata": {},
   "outputs": [],
   "source": [
    "class Solution:\n",
    "    def diameterOfBinaryTree(self, root: Optional[TreeNode]) -> int:\n",
    "        \n",
    "        def getDiameter(node, diameter):\n",
    "            #print(\"node.val:{}\".format(node.val))\n",
    "            \n",
    "            #subDiameter = []\n",
    "            now = 0\n",
    "            left_depth = right_depth = 0\n",
    "            \n",
    "            if node.left != None:\n",
    "                left_depth, diameter  = getDiameter(node.left, diameter)\n",
    "            if node.right != None:\n",
    "                right_depth, diameter = getDiameter(node.right, diameter)\n",
    "                \n",
    "            if left_depth + right_depth > diameter:\n",
    "                diameter = left_depth + right_depth\n",
    "                \n",
    "            if left_depth > right_depth:\n",
    "                depth = left_depth\n",
    "                #return [left_depth + 1, diameter]\n",
    "            else:\n",
    "                depth = right_depth\n",
    "                \n",
    "            #print(\"depth:{}\".format(depth))\n",
    "            return [depth + 1, diameter]\n",
    "                \n",
    "\n",
    "        return getDiameter(root, 0)[1]\n",
    "        "
   ]
  },
  {
   "cell_type": "code",
   "execution_count": 22,
   "id": "21260e0c",
   "metadata": {},
   "outputs": [
    {
     "name": "stdout",
     "output_type": "stream",
     "text": [
      "node.val:1\n",
      "node.val:2\n",
      "depth:0\n",
      "depth:1\n"
     ]
    },
    {
     "data": {
      "text/plain": [
       "1"
      ]
     },
     "execution_count": 22,
     "metadata": {},
     "output_type": "execute_result"
    }
   ],
   "source": [
    "root = makeTree(\n",
    "    \"[1,2]\"\n",
    ")\n",
    "sol = Solution()\n",
    "sol.diameterOfBinaryTree(\n",
    "    root = root\n",
    ")"
   ]
  },
  {
   "cell_type": "code",
   "execution_count": null,
   "id": "adb27386",
   "metadata": {},
   "outputs": [],
   "source": []
  },
  {
   "cell_type": "code",
   "execution_count": null,
   "id": "2a72eaf3",
   "metadata": {},
   "outputs": [],
   "source": []
  }
 ],
 "metadata": {
  "kernelspec": {
   "display_name": "Python 3 (ipykernel)",
   "language": "python",
   "name": "python3"
  },
  "language_info": {
   "codemirror_mode": {
    "name": "ipython",
    "version": 3
   },
   "file_extension": ".py",
   "mimetype": "text/x-python",
   "name": "python",
   "nbconvert_exporter": "python",
   "pygments_lexer": "ipython3",
   "version": "3.10.6"
  }
 },
 "nbformat": 4,
 "nbformat_minor": 5
}
