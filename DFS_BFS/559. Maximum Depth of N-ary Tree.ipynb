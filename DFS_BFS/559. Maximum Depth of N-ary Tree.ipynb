{
 "cells": [
  {
   "cell_type": "code",
   "execution_count": 1,
   "id": "e2cf3027",
   "metadata": {},
   "outputs": [],
   "source": [
    "from typing import *"
   ]
  },
  {
   "cell_type": "code",
   "execution_count": 2,
   "id": "03800e9a",
   "metadata": {},
   "outputs": [],
   "source": [
    "class Node:\n",
    "    def __init__(self, val=None, children=None):\n",
    "        self.val = val\n",
    "        self.children = children"
   ]
  },
  {
   "cell_type": "code",
   "execution_count": 56,
   "id": "f9e85210",
   "metadata": {},
   "outputs": [],
   "source": [
    "def makeNaryTree(string):    \n",
    "    nodes = []\n",
    "    if string == '[]':\n",
    "        return None\n",
    "    string = string.strip('[]')\n",
    "    for val in string.split(','):\n",
    "        if val == 'null':\n",
    "            nodes.append(None)\n",
    "        else:\n",
    "            nodes.append(\n",
    "                Node(\n",
    "                    val = int(val),\n",
    "                    children = []\n",
    "                )\n",
    "            )\n",
    "    root = nodes.pop(0)\n",
    "    children = []\n",
    "    tmp = []\n",
    "    parents = [root]\n",
    "    nodes.pop(0)\n",
    "    while(nodes):\n",
    "        node = nodes.pop(0)\n",
    "        \n",
    "        if node == None:\n",
    "            parents[0].children = children\n",
    "            children = []\n",
    "            parents.pop(0)\n",
    "            if parents == []:\n",
    "                parents = tmp\n",
    "                tmp = []\n",
    "        else:\n",
    "            children.append(node)\n",
    "            tmp.append(node)\n",
    "    if children:\n",
    "        parents[0].children = children           \n",
    "            \n",
    "    return root"
   ]
  },
  {
   "cell_type": "code",
   "execution_count": 57,
   "id": "4f2afe52",
   "metadata": {},
   "outputs": [],
   "source": [
    "def traversal(node):\n",
    "    print(\"node.val:{}\".format(node.val))\n",
    "    children = []\n",
    "    for child in node.children:\n",
    "        children.append(child.val)\n",
    "    print(\"node.children:{}\".format(children))\n",
    "    for child in node.children:\n",
    "        traversal(child)"
   ]
  },
  {
   "cell_type": "code",
   "execution_count": 64,
   "id": "302ac58b",
   "metadata": {},
   "outputs": [],
   "source": [
    "class Solution:\n",
    "    def maxDepth(self, root: 'Node') -> int:\n",
    "        \n",
    "        def getDepth(node):\n",
    "            max_depth  = 0\n",
    "            if node.children:\n",
    "                for child in node.children:\n",
    "                    depth = getDepth(child)\n",
    "                    if depth > max_depth:\n",
    "                        max_depth = depth\n",
    "            return max_depth + 1\n",
    "        \n",
    "        if root == None:\n",
    "            return 0\n",
    "        \n",
    "        return getDepth(root)"
   ]
  },
  {
   "cell_type": "code",
   "execution_count": 65,
   "id": "e2b95116",
   "metadata": {},
   "outputs": [
    {
     "name": "stdout",
     "output_type": "stream",
     "text": [
      "node.val:1\n",
      "node.children:[2, 3, 4, 5]\n",
      "node.val:2\n",
      "node.children:[]\n",
      "node.val:3\n",
      "node.children:[6, 7]\n",
      "node.val:6\n",
      "node.children:[]\n",
      "node.val:7\n",
      "node.children:[11]\n",
      "node.val:11\n",
      "node.children:[14]\n",
      "node.val:14\n",
      "node.children:[]\n",
      "node.val:4\n",
      "node.children:[8]\n",
      "node.val:8\n",
      "node.children:[12]\n",
      "node.val:12\n",
      "node.children:[]\n",
      "node.val:5\n",
      "node.children:[9, 10]\n",
      "node.val:9\n",
      "node.children:[13]\n",
      "node.val:13\n",
      "node.children:[]\n",
      "node.val:10\n",
      "node.children:[]\n"
     ]
    },
    {
     "data": {
      "text/plain": [
       "5"
      ]
     },
     "execution_count": 65,
     "metadata": {},
     "output_type": "execute_result"
    }
   ],
   "source": [
    "root = makeNaryTree(\n",
    "    \"[1,null,2,3,4,5,null,null,6,7,null,8,null,9,10,null,null,11,null,12,null,13,null,null,14]\"\n",
    ")\n",
    "traversal(root)\n",
    "sol = Solution()\n",
    "sol.maxDepth(\n",
    "    root = root\n",
    ")"
   ]
  },
  {
   "cell_type": "code",
   "execution_count": null,
   "id": "34e565bd",
   "metadata": {},
   "outputs": [],
   "source": []
  },
  {
   "cell_type": "code",
   "execution_count": null,
   "id": "881525d9",
   "metadata": {},
   "outputs": [],
   "source": []
  },
  {
   "cell_type": "code",
   "execution_count": null,
   "id": "150fdab0",
   "metadata": {},
   "outputs": [],
   "source": []
  }
 ],
 "metadata": {
  "kernelspec": {
   "display_name": "Python 3 (ipykernel)",
   "language": "python",
   "name": "python3"
  },
  "language_info": {
   "codemirror_mode": {
    "name": "ipython",
    "version": 3
   },
   "file_extension": ".py",
   "mimetype": "text/x-python",
   "name": "python",
   "nbconvert_exporter": "python",
   "pygments_lexer": "ipython3",
   "version": "3.10.6"
  }
 },
 "nbformat": 4,
 "nbformat_minor": 5
}
