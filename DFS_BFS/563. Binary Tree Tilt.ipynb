{
 "cells": [
  {
   "cell_type": "code",
   "execution_count": 1,
   "id": "dedb8e62",
   "metadata": {},
   "outputs": [],
   "source": [
    "from typing import *"
   ]
  },
  {
   "cell_type": "code",
   "execution_count": 2,
   "id": "d81947d7",
   "metadata": {},
   "outputs": [],
   "source": [
    "class TreeNode:\n",
    "    def __init__(self, val=0, left=None, right=None):\n",
    "        self.val = val\n",
    "        self.left = left\n",
    "        self.right = right\n",
    "        \n",
    "def makeBinaryTree(string):    \n",
    "    nodes = []\n",
    "    if string == '[]':\n",
    "        return None\n",
    "    string = string.strip('[]')\n",
    "    for val in string.split(','):\n",
    "        if val == 'null':\n",
    "            nodes.append(None)\n",
    "        else:\n",
    "            nodes.append(\n",
    "                TreeNode(\n",
    "                    val = int(val)\n",
    "                )\n",
    "            )\n",
    "    kids = nodes[::-1]\n",
    "    root = kids.pop()\n",
    "    for node in nodes:\n",
    "        if node != None:\n",
    "            if kids:\n",
    "                node.left = kids.pop()\n",
    "            if kids:\n",
    "                node.right = kids.pop()\n",
    "    return root\n"
   ]
  },
  {
   "cell_type": "code",
   "execution_count": 22,
   "id": "a53f8335",
   "metadata": {},
   "outputs": [],
   "source": [
    "class Solution:\n",
    "    def findTilt(self, root: Optional[TreeNode]) -> int:\n",
    "        tilt = []\n",
    "        \n",
    "        def getTilt(node, tilt):\n",
    "            #rint(\"node.val:{}\".format(node.val))\n",
    "            #rint(\"tilt:{}\".format(tilt))\n",
    "            \n",
    "            left_sum = right_sum = 0\n",
    "            if node.left != None:\n",
    "                left_sum = getTilt(node.left, tilt)\n",
    "            #rint(\"left_sum:{}\".format(left_sum))\n",
    "            if node.right != None:\n",
    "                right_sum = getTilt(node.right, tilt)\n",
    "            #rint(\"right_sum:{}\".format(right_sum))\n",
    "            \n",
    "            tilt.append(abs(left_sum - right_sum))\n",
    "            #rint(tilt)\n",
    "            \n",
    "            return left_sum + right_sum + node.val\n",
    "        \n",
    "        if root == None:\n",
    "            return 0\n",
    "        getTilt(root, tilt)\n",
    "        #rint(tilt)\n",
    "        sum_tilt = 0\n",
    "        for val in tilt:\n",
    "            sum_tilt += val\n",
    "        \n",
    "        return sum_tilt"
   ]
  },
  {
   "cell_type": "code",
   "execution_count": 23,
   "id": "75b60199",
   "metadata": {},
   "outputs": [
    {
     "data": {
      "text/plain": [
       "1"
      ]
     },
     "execution_count": 23,
     "metadata": {},
     "output_type": "execute_result"
    }
   ],
   "source": [
    "root = makeBinaryTree(\n",
    "    \"[1,2,3]\"\n",
    ")\n",
    "sol = Solution()\n",
    "sol.findTilt(\n",
    "    root = root\n",
    ")"
   ]
  },
  {
   "cell_type": "code",
   "execution_count": null,
   "id": "7fe1067c",
   "metadata": {},
   "outputs": [],
   "source": []
  },
  {
   "cell_type": "code",
   "execution_count": null,
   "id": "3214e7a4",
   "metadata": {},
   "outputs": [],
   "source": []
  }
 ],
 "metadata": {
  "kernelspec": {
   "display_name": "Python 3 (ipykernel)",
   "language": "python",
   "name": "python3"
  },
  "language_info": {
   "codemirror_mode": {
    "name": "ipython",
    "version": 3
   },
   "file_extension": ".py",
   "mimetype": "text/x-python",
   "name": "python",
   "nbconvert_exporter": "python",
   "pygments_lexer": "ipython3",
   "version": "3.10.6"
  }
 },
 "nbformat": 4,
 "nbformat_minor": 5
}
