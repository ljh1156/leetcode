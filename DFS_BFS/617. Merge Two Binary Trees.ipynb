{
 "cells": [
  {
   "cell_type": "code",
   "execution_count": 1,
   "id": "0611f393",
   "metadata": {},
   "outputs": [],
   "source": [
    "from typing import *"
   ]
  },
  {
   "cell_type": "code",
   "execution_count": 2,
   "id": "813da45c",
   "metadata": {},
   "outputs": [],
   "source": [
    "class TreeNode:\n",
    "    def __init__(self, val=0, left=None, right=None):\n",
    "        self.val = val\n",
    "        self.left = left\n",
    "        self.right = right\n",
    "        \n",
    "def makeBinaryTree(string):    \n",
    "    nodes = []\n",
    "    if string == '[]':\n",
    "        return None\n",
    "    string = string.strip('[]')\n",
    "    for val in string.split(','):\n",
    "        if val == 'null':\n",
    "            nodes.append(None)\n",
    "        else:\n",
    "            nodes.append(\n",
    "                TreeNode(\n",
    "                    val = int(val)\n",
    "                )\n",
    "            )\n",
    "    kids = nodes[::-1]\n",
    "    root = kids.pop()\n",
    "    for node in nodes:\n",
    "        if node != None:\n",
    "            if kids:\n",
    "                node.left = kids.pop()\n",
    "            if kids:\n",
    "                node.right = kids.pop()\n",
    "    return root\n"
   ]
  },
  {
   "cell_type": "code",
   "execution_count": 20,
   "id": "19521fec",
   "metadata": {},
   "outputs": [],
   "source": [
    "class Solution:\n",
    "    def mergeTrees(self, root1: Optional[TreeNode], root2: Optional[TreeNode]) -> Optional[TreeNode]:\n",
    "        \n",
    "        root = TreeNode()\n",
    "        def mergeTree(node, node1, node2):\n",
    "            if node1 != None or node2 != None:\n",
    "                val = 0\n",
    "                if node1 != None:\n",
    "                    val += node1.val\n",
    "                if node2 != None:\n",
    "                    val += node2.val\n",
    "                node.val = val\n",
    "                \n",
    "                node.left = TreeNode()\n",
    "                node.right = TreeNode()\n",
    "                if node1 == None:\n",
    "                    node.left = mergeTree(node.left, None, node2.left)\n",
    "                    node.right = mergeTree(node.right, None, node2.right)\n",
    "                elif node2 == None:\n",
    "                    node.left = mergeTree(node.left, node1.left, None)\n",
    "                    node.right = mergeTree(node.right, node1.right, None)\n",
    "                else:\n",
    "                    node.left = mergeTree(node.left, node1.left, node2.left)\n",
    "                    node.right = mergeTree(node.right, node1.right, node2.right)\n",
    "\n",
    "            else:\n",
    "                #print(node.val)\n",
    "                #print(None)\n",
    "                node = None\n",
    "            return node\n",
    "        \n",
    "            \n",
    "        root = mergeTree(root, root1, root2)\n",
    "            \n",
    "                \n",
    "        \n",
    "        return root"
   ]
  },
  {
   "cell_type": "code",
   "execution_count": 21,
   "id": "1c6a309c",
   "metadata": {},
   "outputs": [
    {
     "name": "stdout",
     "output_type": "stream",
     "text": [
      "0\n",
      "None\n",
      "0\n",
      "None\n",
      "0\n",
      "None\n",
      "0\n",
      "None\n",
      "0\n",
      "None\n",
      "0\n",
      "None\n",
      "0\n",
      "None\n"
     ]
    },
    {
     "data": {
      "text/plain": [
       "<__main__.TreeNode at 0x7f355c59b070>"
      ]
     },
     "execution_count": 21,
     "metadata": {},
     "output_type": "execute_result"
    }
   ],
   "source": [
    "root1 = makeBinaryTree(\n",
    "    \"[1,3,2,5]\"\n",
    ")\n",
    "root2 = makeBinaryTree(\n",
    "    \"[2,1,3,null,4,null,7]\"\n",
    ")\n",
    "\n",
    "sol = Solution()\n",
    "sol.mergeTrees(\n",
    "    root1 = root1,\n",
    "    root2 = root2\n",
    ")"
   ]
  },
  {
   "cell_type": "code",
   "execution_count": null,
   "id": "2270c623",
   "metadata": {},
   "outputs": [],
   "source": []
  },
  {
   "cell_type": "code",
   "execution_count": null,
   "id": "af3750d2",
   "metadata": {},
   "outputs": [],
   "source": []
  }
 ],
 "metadata": {
  "kernelspec": {
   "display_name": "Python 3 (ipykernel)",
   "language": "python",
   "name": "python3"
  },
  "language_info": {
   "codemirror_mode": {
    "name": "ipython",
    "version": 3
   },
   "file_extension": ".py",
   "mimetype": "text/x-python",
   "name": "python",
   "nbconvert_exporter": "python",
   "pygments_lexer": "ipython3",
   "version": "3.10.6"
  }
 },
 "nbformat": 4,
 "nbformat_minor": 5
}
