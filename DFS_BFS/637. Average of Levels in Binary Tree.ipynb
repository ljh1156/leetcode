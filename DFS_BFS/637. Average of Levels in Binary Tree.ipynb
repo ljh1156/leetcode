{
 "cells": [
  {
   "cell_type": "code",
   "execution_count": 1,
   "id": "f0de1a35",
   "metadata": {},
   "outputs": [],
   "source": [
    "from typing import *"
   ]
  },
  {
   "cell_type": "code",
   "execution_count": 2,
   "id": "201cdef5",
   "metadata": {},
   "outputs": [],
   "source": [
    "class TreeNode:\n",
    "    def __init__(self, val=0, left=None, right=None):\n",
    "        self.val = val\n",
    "        self.left = left\n",
    "        self.right = right\n",
    "        \n",
    "def makeBinaryTree(string):    \n",
    "    nodes = []\n",
    "    if string == '[]':\n",
    "        return None\n",
    "    string = string.strip('[]')\n",
    "    for val in string.split(','):\n",
    "        if val == 'null':\n",
    "            nodes.append(None)\n",
    "        else:\n",
    "            nodes.append(\n",
    "                TreeNode(\n",
    "                    val = int(val)\n",
    "                )\n",
    "            )\n",
    "    kids = nodes[::-1]\n",
    "    root = kids.pop()\n",
    "    for node in nodes:\n",
    "        if node != None:\n",
    "            if kids:\n",
    "                node.left = kids.pop()\n",
    "            if kids:\n",
    "                node.right = kids.pop()\n",
    "    return root\n"
   ]
  },
  {
   "cell_type": "code",
   "execution_count": 18,
   "id": "5a19cb64",
   "metadata": {},
   "outputs": [],
   "source": [
    "class Solution:\n",
    "    def averageOfLevels(self, root: Optional[TreeNode]) -> List[float]:\n",
    "        ret = []\n",
    "        def getDepthSum(node, depth, sum_dic):\n",
    "            if depth not in sum_dic:\n",
    "                sum_dic[depth] = [0, 0]\n",
    "            sum_dic[depth][0] += 1\n",
    "            sum_dic[depth][1] += node.val\n",
    "            #print(sum_dic)\n",
    "            \n",
    "            if node.left:\n",
    "                getDepthSum(node.left, depth+1, sum_dic)\n",
    "            if node.right:\n",
    "                getDepthSum(node.right, depth+1, sum_dic)\n",
    "            \n",
    "            return\n",
    "        sum_dic = {}\n",
    "        getDepthSum(root, 0, sum_dic)\n",
    "        #print(sum_dic)\n",
    "        \n",
    "        for depth in sorted(sum_dic.keys()):\n",
    "            #print(depth)\n",
    "            ret.append(sum_dic[depth][1] / sum_dic[depth][0])\n",
    "        \n",
    "        return ret"
   ]
  },
  {
   "cell_type": "code",
   "execution_count": 19,
   "id": "adb21805",
   "metadata": {},
   "outputs": [
    {
     "name": "stdout",
     "output_type": "stream",
     "text": [
      "{0: [1, 3], 1: [2, 29], 2: [2, 22]}\n",
      "0\n",
      "1\n",
      "2\n"
     ]
    },
    {
     "data": {
      "text/plain": [
       "[3.0, 14.5, 11.0]"
      ]
     },
     "execution_count": 19,
     "metadata": {},
     "output_type": "execute_result"
    }
   ],
   "source": [
    "root = makeBinaryTree(\"[3,9,20,15,7]\")\n",
    "sol = Solution()\n",
    "sol.averageOfLevels(root = root)"
   ]
  },
  {
   "cell_type": "code",
   "execution_count": null,
   "id": "53a857fc",
   "metadata": {},
   "outputs": [],
   "source": []
  }
 ],
 "metadata": {
  "kernelspec": {
   "display_name": "Python 3 (ipykernel)",
   "language": "python",
   "name": "python3"
  },
  "language_info": {
   "codemirror_mode": {
    "name": "ipython",
    "version": 3
   },
   "file_extension": ".py",
   "mimetype": "text/x-python",
   "name": "python",
   "nbconvert_exporter": "python",
   "pygments_lexer": "ipython3",
   "version": "3.10.6"
  }
 },
 "nbformat": 4,
 "nbformat_minor": 5
}
