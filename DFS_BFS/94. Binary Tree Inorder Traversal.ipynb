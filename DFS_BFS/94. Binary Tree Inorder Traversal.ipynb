{
 "cells": [
  {
   "cell_type": "code",
   "execution_count": 1,
   "id": "e3b21da3",
   "metadata": {},
   "outputs": [],
   "source": [
    "from typing import *\n"
   ]
  },
  {
   "cell_type": "code",
   "execution_count": 2,
   "id": "b49d3a70",
   "metadata": {},
   "outputs": [],
   "source": [
    "# Definition for a binary tree node.\n",
    "class TreeNode:\n",
    "    def __init__(self, val=0, left=None, right=None):\n",
    "        self.val = val\n",
    "        self.left = left\n",
    "        self.right = right"
   ]
  },
  {
   "cell_type": "code",
   "execution_count": 5,
   "id": "b52bf897",
   "metadata": {},
   "outputs": [],
   "source": [
    "def makeTree(root):\n",
    "    if len(root) == 0:\n",
    "        return None\n",
    "    if root[0] == None:\n",
    "        return None\n",
    "    node = TreeNode(\n",
    "        val = root[0]\n",
    "    )\n",
    "    node.left = makeTree(root[1:])\n",
    "    node.right = makeTree(root[2:])\n",
    "    return node\n",
    "    "
   ]
  },
  {
   "cell_type": "code",
   "execution_count": 27,
   "id": "55b079f2",
   "metadata": {},
   "outputs": [],
   "source": [
    "class Solution:\n",
    "    def inorderTraversal(self, root: Optional[TreeNode]) -> List[int]:\n",
    "        if root == None:\n",
    "            return []\n",
    "        \n",
    "        def traversal(node):\n",
    "            if node == None:\n",
    "                return  []\n",
    "            print(node.val)\n",
    "            inorder = []\n",
    "            if node.left != None:\n",
    "                inorder = inorder + traversal(node.left)\n",
    "            print(inorder)\n",
    "            inorder.append(node.val)\n",
    "            print(inorder)\n",
    "            if node.right != None:\n",
    "                inorder = inorder + traversal(node.right)\n",
    "            print(inorder)\n",
    "                    \n",
    "            return inorder\n",
    "        return traversal(root)"
   ]
  },
  {
   "cell_type": "code",
   "execution_count": 28,
   "id": "a53f7220",
   "metadata": {},
   "outputs": [],
   "source": [
    "def traversal(node):\n",
    "    if node == None:\n",
    "        print(None)\n",
    "        return\n",
    "    print(node.val)\n",
    "    traversal(node.left)\n",
    "    traversal(node.right)"
   ]
  },
  {
   "cell_type": "code",
   "execution_count": 29,
   "id": "7821b907",
   "metadata": {},
   "outputs": [
    {
     "name": "stdout",
     "output_type": "stream",
     "text": [
      "1\n",
      "[]\n",
      "[1]\n",
      "2\n",
      "3\n",
      "[]\n",
      "[3]\n",
      "[3]\n",
      "[3]\n",
      "[3, 2]\n",
      "[3, 2]\n",
      "[1, 3, 2]\n"
     ]
    }
   ],
   "source": [
    "\n",
    "root = makeTree(\n",
    "    [1,None,2,3]\n",
    ")\n",
    "#traversal(root)\n",
    "sol = Solution()\n",
    "sol.inorderTraversal(root)"
   ]
  },
  {
   "cell_type": "code",
   "execution_count": null,
   "id": "605eeb3f",
   "metadata": {},
   "outputs": [],
   "source": []
  },
  {
   "cell_type": "code",
   "execution_count": null,
   "id": "2af6b19b",
   "metadata": {},
   "outputs": [],
   "source": []
  }
 ],
 "metadata": {
  "kernelspec": {
   "display_name": "Python 3 (ipykernel)",
   "language": "python",
   "name": "python3"
  },
  "language_info": {
   "codemirror_mode": {
    "name": "ipython",
    "version": 3
   },
   "file_extension": ".py",
   "mimetype": "text/x-python",
   "name": "python",
   "nbconvert_exporter": "python",
   "pygments_lexer": "ipython3",
   "version": "3.10.6"
  }
 },
 "nbformat": 4,
 "nbformat_minor": 5
}
