{
 "cells": [
  {
   "cell_type": "code",
   "execution_count": 1,
   "id": "a69f467a",
   "metadata": {},
   "outputs": [],
   "source": [
    "from typing import *"
   ]
  },
  {
   "cell_type": "code",
   "execution_count": 3,
   "id": "d742fbb5",
   "metadata": {},
   "outputs": [],
   "source": [
    "class TreeNode:\n",
    "    def __init__(self, val=0, left=None, right=None):\n",
    "        self.val = val\n",
    "        self.left = left\n",
    "        self.right = right"
   ]
  },
  {
   "cell_type": "code",
   "execution_count": 28,
   "id": "31578d93",
   "metadata": {},
   "outputs": [],
   "source": [
    "def makeTree(root, idx):\n",
    "    if len(root) == 0:\n",
    "        return None\n",
    "    if root[idx] == None:\n",
    "        return None\n",
    "    node = TreeNode(\n",
    "        val = root[idx]\n",
    "    )\n",
    "    print(node.val)\n",
    "    if idx*2+1 < len(root):\n",
    "        node.left = makeTree(root, idx*2+1)\n",
    "    else:\n",
    "        node.left = None\n",
    "    if idx*2+2 < len(root):\n",
    "        node.right = makeTree(root, idx*2+2)\n",
    "    else:\n",
    "        node.right = None\n",
    "    return node"
   ]
  },
  {
   "cell_type": "code",
   "execution_count": 33,
   "id": "19c4f277",
   "metadata": {},
   "outputs": [],
   "source": [
    "class Solution:\n",
    "    def isSameTree(self, p: Optional[TreeNode], q: Optional[TreeNode]) -> bool:\n",
    "        \n",
    "        def isSame(p, q):\n",
    "            if p == None and q == None:\n",
    "                return True\n",
    "            elif p == None and q != None:\n",
    "                return False\n",
    "            elif p != None and q == None:\n",
    "                return False\n",
    "            print(\"{}:{}\".format(p.val, q.val))\n",
    "            print(\"{}:{}\".format(p.left, q.left))\n",
    "            print(\"{}:{}\".format(p.right, q.right))\n",
    "            \n",
    "            l = r = True\n",
    "            if p.val != q.val:\n",
    "                return False\n",
    "            elif p.left == None and q.left != None:\n",
    "                return False\n",
    "            elif p.left != None and q.left == None:\n",
    "                return False\n",
    "            elif p.right == None and q.right != None:\n",
    "                return False\n",
    "            elif p.right != None and q.right == None:\n",
    "                return False\n",
    "            if p.left != None and q.left != None:\n",
    "                print(\"left\")\n",
    "                l = isSame(p.left, q.left)\n",
    "            if p.right != None and q.right != None:\n",
    "                print(\"right\")\n",
    "                r = isSame(p.right, q.right)\n",
    "            if l == False or r == False:\n",
    "                return False\n",
    "            return True\n",
    "        \n",
    "        return isSame(p, q)\n",
    "            \n",
    "        #return True"
   ]
  },
  {
   "cell_type": "code",
   "execution_count": 34,
   "id": "10296dde",
   "metadata": {},
   "outputs": [
    {
     "name": "stdout",
     "output_type": "stream",
     "text": [
      "1\n",
      "2\n",
      "3\n",
      "4\n",
      "5\n",
      "1\n",
      "2\n",
      "3\n",
      "1:1\n",
      "<__main__.TreeNode object at 0x7fcb9c65d120>:<__main__.TreeNode object at 0x7fcb9c65de70>\n",
      "<__main__.TreeNode object at 0x7fcb9c65d8a0>:<__main__.TreeNode object at 0x7fcb9c65ce20>\n",
      "left\n",
      "2:2\n",
      "None:None\n",
      "None:None\n",
      "right\n",
      "3:3\n",
      "<__main__.TreeNode object at 0x7fcb9c65e1a0>:None\n",
      "<__main__.TreeNode object at 0x7fcb9c65d5a0>:None\n"
     ]
    },
    {
     "data": {
      "text/plain": [
       "False"
      ]
     },
     "execution_count": 34,
     "metadata": {},
     "output_type": "execute_result"
    }
   ],
   "source": [
    "p = makeTree(\n",
    "    [1,2,3,None,None,4,5], 0\n",
    ")\n",
    "q = makeTree(\n",
    "    [1,2,3], 0\n",
    ")\n",
    "sol = Solution()\n",
    "sol.isSameTree(p, q)"
   ]
  },
  {
   "cell_type": "code",
   "execution_count": null,
   "id": "c10b85a7",
   "metadata": {},
   "outputs": [],
   "source": []
  },
  {
   "cell_type": "code",
   "execution_count": null,
   "id": "19b66f1f",
   "metadata": {},
   "outputs": [],
   "source": []
  }
 ],
 "metadata": {
  "kernelspec": {
   "display_name": "Python 3 (ipykernel)",
   "language": "python",
   "name": "python3"
  },
  "language_info": {
   "codemirror_mode": {
    "name": "ipython",
    "version": 3
   },
   "file_extension": ".py",
   "mimetype": "text/x-python",
   "name": "python",
   "nbconvert_exporter": "python",
   "pygments_lexer": "ipython3",
   "version": "3.10.6"
  }
 },
 "nbformat": 4,
 "nbformat_minor": 5
}
