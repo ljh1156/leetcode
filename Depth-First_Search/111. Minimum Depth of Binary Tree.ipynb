{
 "cells": [
  {
   "cell_type": "code",
   "execution_count": 2,
   "id": "9857be9c",
   "metadata": {},
   "outputs": [],
   "source": [
    "from typing import *"
   ]
  },
  {
   "cell_type": "code",
   "execution_count": 3,
   "id": "2dbaa05a",
   "metadata": {},
   "outputs": [],
   "source": [
    "class TreeNode:\n",
    "    def __init__(self, val=0, left=None, right=None):\n",
    "        self.val = val\n",
    "        self.left = left\n",
    "        self.right = right"
   ]
  },
  {
   "cell_type": "code",
   "execution_count": 99,
   "id": "bf3e1694",
   "metadata": {},
   "outputs": [],
   "source": [
    "def makeTree(string):    \n",
    "    nodes = []\n",
    "    string = string.strip('[]')\n",
    "    for val in string.split(','):\n",
    "        if val == 'null':\n",
    "            nodes.append(None)\n",
    "        else:\n",
    "            nodes.append(\n",
    "                TreeNode(\n",
    "                    val = int(val)\n",
    "                )\n",
    "            )\n",
    "    kids = nodes[::-1]\n",
    "    root = kids.pop()\n",
    "    for node in nodes:\n",
    "        if node != None:\n",
    "            if kids:\n",
    "                node.left = kids.pop()\n",
    "            if kids:\n",
    "                node.right = kids.pop()\n",
    "    return root\n"
   ]
  },
  {
   "cell_type": "code",
   "execution_count": 100,
   "id": "670b1fc6",
   "metadata": {},
   "outputs": [],
   "source": [
    "class Solution:\n",
    "    def minDepth(self, root: Optional[TreeNode]) -> int:\n",
    "        \n",
    "        def minDep(node):\n",
    "            #print(\"{}:{}:{}\".format(node.val, node.left, node.right))\n",
    "            l_depth = r_depth = 1\n",
    "            if node.left != None:\n",
    "                depth = minDep(node.left)\n",
    "                l_depth += depth\n",
    "            if node.right != None:\n",
    "                depth = minDep(node.right)\n",
    "                r_depth += depth\n",
    "            if r_depth == 1:\n",
    "                return l_depth\n",
    "            if l_depth == 1:\n",
    "                return r_depth\n",
    "            if l_depth > r_depth:\n",
    "                return r_depth\n",
    "            else:\n",
    "                return l_depth\n",
    "            #print(\"depth:{}:{}\".format(l_depth, r_depth))\n",
    "            #if l_depth > r_depth or l_depth == 1:\n",
    "             #   return r_depth\n",
    "            #else:\n",
    "             #   return l_depth\n",
    "        \n",
    "        if root == None:\n",
    "            return 0\n",
    "        l_depth = r_depth = 1\n",
    "        #print(\"{}:{}:{}\".format(root.val, root.left, root.right))\n",
    "        if root.left != None:\n",
    "            depth = minDep(root.left)\n",
    "            l_depth += depth\n",
    "            #print(l_depth)\n",
    "        if root.right != None:\n",
    "            depth = minDep(root.right)\n",
    "            r_depth += depth\n",
    "            #print(r_depth)\n",
    "        if r_depth == 1:\n",
    "            return l_depth\n",
    "        if l_depth == 1:\n",
    "            return r_depth\n",
    "        if l_depth > r_depth:\n",
    "            return r_depth\n",
    "        else:\n",
    "            return l_depth\n",
    "            \n",
    "        #return minDep(root)"
   ]
  },
  {
   "cell_type": "code",
   "execution_count": 101,
   "id": "1043d7c8",
   "metadata": {},
   "outputs": [
    {
     "data": {
      "text/plain": [
       "2"
      ]
     },
     "execution_count": 101,
     "metadata": {},
     "output_type": "execute_result"
    }
   ],
   "source": [
    "root = makeTree(\n",
    "    \"[3,9,20,null,null,15,7]\"\n",
    ")\n",
    "sol = Solution()\n",
    "sol.minDepth(root)"
   ]
  },
  {
   "cell_type": "code",
   "execution_count": null,
   "id": "3c212381",
   "metadata": {},
   "outputs": [],
   "source": []
  },
  {
   "cell_type": "code",
   "execution_count": null,
   "id": "2bfcbde2",
   "metadata": {},
   "outputs": [],
   "source": []
  }
 ],
 "metadata": {
  "kernelspec": {
   "display_name": "Python 3 (ipykernel)",
   "language": "python",
   "name": "python3"
  },
  "language_info": {
   "codemirror_mode": {
    "name": "ipython",
    "version": 3
   },
   "file_extension": ".py",
   "mimetype": "text/x-python",
   "name": "python",
   "nbconvert_exporter": "python",
   "pygments_lexer": "ipython3",
   "version": "3.10.6"
  }
 },
 "nbformat": 4,
 "nbformat_minor": 5
}
