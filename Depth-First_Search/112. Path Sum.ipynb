{
 "cells": [
  {
   "cell_type": "code",
   "execution_count": 1,
   "id": "9b5ac3f7",
   "metadata": {},
   "outputs": [],
   "source": [
    "from typing import *"
   ]
  },
  {
   "cell_type": "code",
   "execution_count": 2,
   "id": "5cee0e64",
   "metadata": {},
   "outputs": [],
   "source": [
    "class TreeNode:\n",
    "    def __init__(self, val=0, left=None, right=None):\n",
    "        self.val = val\n",
    "        self.left = left\n",
    "        self.right = right"
   ]
  },
  {
   "cell_type": "code",
   "execution_count": 16,
   "id": "a009a296",
   "metadata": {},
   "outputs": [],
   "source": [
    "def makeTree(string):    \n",
    "    nodes = []\n",
    "    if string == '[]':\n",
    "        return None\n",
    "    string = string.strip('[]')\n",
    "    for val in string.split(','):\n",
    "        if val == 'null':\n",
    "            nodes.append(None)\n",
    "        else:\n",
    "            nodes.append(\n",
    "                TreeNode(\n",
    "                    val = int(val)\n",
    "                )\n",
    "            )\n",
    "    kids = nodes[::-1]\n",
    "    root = kids.pop()\n",
    "    for node in nodes:\n",
    "        if node != None:\n",
    "            if kids:\n",
    "                node.left = kids.pop()\n",
    "            if kids:\n",
    "                node.right = kids.pop()\n",
    "    return root\n"
   ]
  },
  {
   "cell_type": "code",
   "execution_count": 17,
   "id": "ea82542e",
   "metadata": {},
   "outputs": [],
   "source": [
    "class Solution:\n",
    "    def hasPathSum(self, root: Optional[TreeNode], targetSum: int) -> bool:\n",
    "        \n",
    "        def pathSum(node, target, now):\n",
    "            print(now)\n",
    "            if node.left == None and node.right == None:\n",
    "                if now + node.val == target:\n",
    "                    return True\n",
    "                return False\n",
    "            ret = False\n",
    "            if node.left != None:\n",
    "                ret = pathSum(node.left, target, now + node.val)\n",
    "                if ret == True:\n",
    "                    return True\n",
    "            if node.right != None:\n",
    "                ret = pathSum(node.right, target, now + node.val)\n",
    "                if ret == True:\n",
    "                    return True\n",
    "            return ret\n",
    "            \n",
    "        if root == None:\n",
    "            return False\n",
    "        return pathSum(root, targetSum, 0)"
   ]
  },
  {
   "cell_type": "code",
   "execution_count": 18,
   "id": "de19797a",
   "metadata": {},
   "outputs": [
    {
     "data": {
      "text/plain": [
       "False"
      ]
     },
     "execution_count": 18,
     "metadata": {},
     "output_type": "execute_result"
    }
   ],
   "source": [
    "root = makeTree(\n",
    "    \"[]\"\n",
    ")\n",
    "sol = Solution()\n",
    "sol.hasPathSum(\n",
    "    root = root,\n",
    "    targetSum = 0\n",
    ")"
   ]
  },
  {
   "cell_type": "code",
   "execution_count": null,
   "id": "1e273406",
   "metadata": {},
   "outputs": [],
   "source": []
  },
  {
   "cell_type": "code",
   "execution_count": null,
   "id": "1f3a00ac",
   "metadata": {},
   "outputs": [],
   "source": []
  }
 ],
 "metadata": {
  "kernelspec": {
   "display_name": "Python 3 (ipykernel)",
   "language": "python",
   "name": "python3"
  },
  "language_info": {
   "codemirror_mode": {
    "name": "ipython",
    "version": 3
   },
   "file_extension": ".py",
   "mimetype": "text/x-python",
   "name": "python",
   "nbconvert_exporter": "python",
   "pygments_lexer": "ipython3",
   "version": "3.10.6"
  }
 },
 "nbformat": 4,
 "nbformat_minor": 5
}
