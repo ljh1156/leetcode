{
 "cells": [
  {
   "cell_type": "code",
   "execution_count": 1,
   "id": "f09ca910",
   "metadata": {},
   "outputs": [],
   "source": [
    "from typing import *"
   ]
  },
  {
   "cell_type": "code",
   "execution_count": 2,
   "id": "6e311489",
   "metadata": {},
   "outputs": [],
   "source": [
    "class TreeNode:\n",
    "    def __init__(self, val=0, left=None, right=None):\n",
    "        self.val = val\n",
    "        self.left = left\n",
    "        self.right = right\n",
    "        \n",
    "def makeTree(string):    \n",
    "    nodes = []\n",
    "    if string == '[]':\n",
    "        return None\n",
    "    string = string.strip('[]')\n",
    "    for val in string.split(','):\n",
    "        if val == 'null':\n",
    "            nodes.append(None)\n",
    "        else:\n",
    "            nodes.append(\n",
    "                TreeNode(\n",
    "                    val = int(val)\n",
    "                )\n",
    "            )\n",
    "    kids = nodes[::-1]\n",
    "    root = kids.pop()\n",
    "    for node in nodes:\n",
    "        if node != None:\n",
    "            if kids:\n",
    "                node.left = kids.pop()\n",
    "            if kids:\n",
    "                node.right = kids.pop()\n",
    "    return root\n"
   ]
  },
  {
   "cell_type": "code",
   "execution_count": 26,
   "id": "64d7fdf8",
   "metadata": {},
   "outputs": [],
   "source": [
    "class Solution:\n",
    "    def invertTree(self, root: Optional[TreeNode]) -> Optional[TreeNode]:\n",
    "        def invert(node):\n",
    "            print(node.val)\n",
    "            tmp = None\n",
    "            tmp = node.left\n",
    "            node.left = node.right\n",
    "            node.right = tmp\n",
    "            if node.left:\n",
    "                invert(node.left)\n",
    "            if node.right:\n",
    "                invert(node.right)\n",
    "            return node\n",
    "            \n",
    "        if root != None:\n",
    "            return invert(root)\n",
    "        return None"
   ]
  },
  {
   "cell_type": "code",
   "execution_count": 27,
   "id": "fb1d4295",
   "metadata": {},
   "outputs": [
    {
     "name": "stdout",
     "output_type": "stream",
     "text": [
      "4\n",
      "7\n",
      "9\n",
      "6\n",
      "2\n",
      "3\n",
      "1\n"
     ]
    },
    {
     "data": {
      "text/plain": [
       "<__main__.TreeNode at 0x7fca30706860>"
      ]
     },
     "execution_count": 27,
     "metadata": {},
     "output_type": "execute_result"
    }
   ],
   "source": [
    "root = makeTree(\n",
    "    \"[4,2,7,1,3,6,9]\"\n",
    ")\n",
    "sol = Solution()\n",
    "sol.invertTree(\n",
    "    root = root\n",
    ")"
   ]
  },
  {
   "cell_type": "code",
   "execution_count": null,
   "id": "cf8f0922",
   "metadata": {},
   "outputs": [],
   "source": []
  },
  {
   "cell_type": "code",
   "execution_count": null,
   "id": "0479c350",
   "metadata": {},
   "outputs": [],
   "source": []
  }
 ],
 "metadata": {
  "kernelspec": {
   "display_name": "Python 3 (ipykernel)",
   "language": "python",
   "name": "python3"
  },
  "language_info": {
   "codemirror_mode": {
    "name": "ipython",
    "version": 3
   },
   "file_extension": ".py",
   "mimetype": "text/x-python",
   "name": "python",
   "nbconvert_exporter": "python",
   "pygments_lexer": "ipython3",
   "version": "3.10.6"
  }
 },
 "nbformat": 4,
 "nbformat_minor": 5
}
