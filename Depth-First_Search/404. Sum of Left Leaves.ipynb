{
 "cells": [
  {
   "cell_type": "code",
   "execution_count": 1,
   "id": "167d0f6b",
   "metadata": {},
   "outputs": [],
   "source": [
    "from typing import *"
   ]
  },
  {
   "cell_type": "code",
   "execution_count": 2,
   "id": "a6ca17f2",
   "metadata": {},
   "outputs": [],
   "source": [
    "class TreeNode:\n",
    "    def __init__(self, val=0, left=None, right=None):\n",
    "        self.val = val\n",
    "        self.left = left\n",
    "        self.right = right\n",
    "        \n",
    "def makeTree(string):    \n",
    "    nodes = []\n",
    "    if string == '[]':\n",
    "        return None\n",
    "    string = string.strip('[]')\n",
    "    for val in string.split(','):\n",
    "        if val == 'null':\n",
    "            nodes.append(None)\n",
    "        else:\n",
    "            nodes.append(\n",
    "                TreeNode(\n",
    "                    val = int(val)\n",
    "                )\n",
    "            )\n",
    "    kids = nodes[::-1]\n",
    "    root = kids.pop()\n",
    "    for node in nodes:\n",
    "        if node != None:\n",
    "            if kids:\n",
    "                node.left = kids.pop()\n",
    "            if kids:\n",
    "                node.right = kids.pop()\n",
    "    return root\n"
   ]
  },
  {
   "cell_type": "code",
   "execution_count": 5,
   "id": "58e0f1f7",
   "metadata": {},
   "outputs": [],
   "source": [
    "class Solution:\n",
    "    def sumOfLeftLeaves(self, root: Optional[TreeNode]) -> int:\n",
    "        def sumOfLeft(node, isLeft):\n",
    "            if node.left == None and node.right == None:\n",
    "                if isLeft == True:\n",
    "                    return node.val\n",
    "                return 0\n",
    "            l_sum = r_sum = 0\n",
    "            if node.left != None:\n",
    "                l_sum = sumOfLeft(node.left, True)\n",
    "            if node.right != None:\n",
    "                r_sum = sumOfLeft(node.right, False)\n",
    "                \n",
    "            return l_sum + r_sum\n",
    "        \n",
    "        if root == None:\n",
    "            return 0\n",
    "        l_sum = r_sum = 0\n",
    "        if root.left != None:\n",
    "            l_sum = sumOfLeft(root.left, True)\n",
    "        if root.right != None:\n",
    "            r_sum = sumOfLeft(root.right, False)\n",
    "            \n",
    "        return l_sum + r_sum"
   ]
  },
  {
   "cell_type": "code",
   "execution_count": 7,
   "id": "8016f29a",
   "metadata": {},
   "outputs": [
    {
     "data": {
      "text/plain": [
       "0"
      ]
     },
     "execution_count": 7,
     "metadata": {},
     "output_type": "execute_result"
    }
   ],
   "source": [
    "root = makeTree(\n",
    "    \"[1]\"\n",
    ")\n",
    "sol = Solution()\n",
    "sol.sumOfLeftLeaves(\n",
    "    root = root\n",
    ")"
   ]
  },
  {
   "cell_type": "code",
   "execution_count": null,
   "id": "29a545f6",
   "metadata": {},
   "outputs": [],
   "source": []
  }
 ],
 "metadata": {
  "kernelspec": {
   "display_name": "Python 3 (ipykernel)",
   "language": "python",
   "name": "python3"
  },
  "language_info": {
   "codemirror_mode": {
    "name": "ipython",
    "version": 3
   },
   "file_extension": ".py",
   "mimetype": "text/x-python",
   "name": "python",
   "nbconvert_exporter": "python",
   "pygments_lexer": "ipython3",
   "version": "3.10.6"
  }
 },
 "nbformat": 4,
 "nbformat_minor": 5
}
