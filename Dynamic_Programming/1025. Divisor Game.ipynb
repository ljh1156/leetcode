{
 "cells": [
  {
   "cell_type": "code",
   "execution_count": 2,
   "id": "aceaeeb6",
   "metadata": {},
   "outputs": [],
   "source": [
    "from typing import *"
   ]
  },
  {
   "cell_type": "code",
   "execution_count": 35,
   "id": "ce6e6d03",
   "metadata": {},
   "outputs": [],
   "source": [
    "class Solution:\n",
    "    def divisorGame(self, n: int) -> bool:\n",
    "        \n",
    "        if n == 1: return False\n",
    "        elif n == 2: return True\n",
    "        win = []\n",
    "        win.append(False)\n",
    "        win.append(False)\n",
    "        win.append(True)\n",
    "        for i in range(3, n+1):\n",
    "            print(\"i:{}\".format(i))\n",
    "            for j in range(1, i):\n",
    "                print(\"j:{}\".format(j))\n",
    "                if i % j != 0: continue\n",
    "                result = False\n",
    "                print(win[i-j])\n",
    "                if win[i - j] == False:\n",
    "                    result = True\n",
    "                    break\n",
    "            win.append(result)\n",
    "            print(win)\n",
    "        return win[-1]\n",
    "            \n",
    "        \n",
    "#        return True"
   ]
  },
  {
   "cell_type": "code",
   "execution_count": 36,
   "id": "0b991f4e",
   "metadata": {},
   "outputs": [
    {
     "name": "stdout",
     "output_type": "stream",
     "text": [
      "i:3\n",
      "j:1\n",
      "True\n",
      "j:2\n",
      "[False, False, True, False]\n",
      "i:4\n",
      "j:1\n",
      "False\n",
      "[False, False, True, False, True]\n"
     ]
    },
    {
     "data": {
      "text/plain": [
       "True"
      ]
     },
     "execution_count": 36,
     "metadata": {},
     "output_type": "execute_result"
    }
   ],
   "source": [
    "sol = Solution()\n",
    "sol.divisorGame(\n",
    "    n = 4\n",
    ")"
   ]
  },
  {
   "cell_type": "code",
   "execution_count": null,
   "id": "ef1413cb",
   "metadata": {},
   "outputs": [],
   "source": []
  },
  {
   "cell_type": "code",
   "execution_count": null,
   "id": "cf79d86f",
   "metadata": {},
   "outputs": [],
   "source": []
  }
 ],
 "metadata": {
  "kernelspec": {
   "display_name": "Python 3 (ipykernel)",
   "language": "python",
   "name": "python3"
  },
  "language_info": {
   "codemirror_mode": {
    "name": "ipython",
    "version": 3
   },
   "file_extension": ".py",
   "mimetype": "text/x-python",
   "name": "python",
   "nbconvert_exporter": "python",
   "pygments_lexer": "ipython3",
   "version": "3.10.6"
  }
 },
 "nbformat": 4,
 "nbformat_minor": 5
}
