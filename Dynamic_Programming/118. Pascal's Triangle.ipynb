{
 "cells": [
  {
   "cell_type": "code",
   "execution_count": 1,
   "id": "c7c43137",
   "metadata": {},
   "outputs": [],
   "source": [
    "from typing import *"
   ]
  },
  {
   "cell_type": "code",
   "execution_count": 24,
   "id": "2528d2ff",
   "metadata": {},
   "outputs": [],
   "source": [
    "class Solution:\n",
    "    def generate(self, numRows: int) -> List[List[int]]:\n",
    "        answer = []\n",
    "        for i in range(1, numRows+1):\n",
    "            row = []\n",
    "            print(i)\n",
    "            for j in range(1, i+1):\n",
    "                print(j)\n",
    "                print(row)\n",
    "                if j == 1 or j == i:\n",
    "                    row.append(1)\n",
    "                else:\n",
    "                    row.append(answer[i-2][j-2]+answer[i-2][j-1])\n",
    "            answer.append(row)\n",
    "            #print(answer[0])\n",
    "            #print(row)\n",
    "        return answer"
   ]
  },
  {
   "cell_type": "code",
   "execution_count": 25,
   "id": "a084d141",
   "metadata": {},
   "outputs": [
    {
     "name": "stdout",
     "output_type": "stream",
     "text": [
      "1\n",
      "1\n",
      "[]\n",
      "[1]\n",
      "2\n",
      "1\n",
      "[]\n",
      "2\n",
      "[1]\n",
      "[1, 1]\n",
      "3\n",
      "1\n",
      "[]\n",
      "2\n",
      "[1]\n",
      "3\n",
      "[1, 2]\n",
      "[1, 2, 1]\n",
      "4\n",
      "1\n",
      "[]\n",
      "2\n",
      "[1]\n",
      "3\n",
      "[1, 3]\n",
      "4\n",
      "[1, 3, 3]\n",
      "[1, 3, 3, 1]\n",
      "5\n",
      "1\n",
      "[]\n",
      "2\n",
      "[1]\n",
      "3\n",
      "[1, 4]\n",
      "4\n",
      "[1, 4, 6]\n",
      "5\n",
      "[1, 4, 6, 4]\n",
      "[1, 4, 6, 4, 1]\n"
     ]
    },
    {
     "data": {
      "text/plain": [
       "[[1], [1, 1], [1, 2, 1], [1, 3, 3, 1], [1, 4, 6, 4, 1]]"
      ]
     },
     "execution_count": 25,
     "metadata": {},
     "output_type": "execute_result"
    }
   ],
   "source": [
    "sol = Solution()\n",
    "sol.generate(\n",
    "    numRows = 5\n",
    "\n",
    ")"
   ]
  },
  {
   "cell_type": "code",
   "execution_count": null,
   "id": "70b40aef",
   "metadata": {},
   "outputs": [],
   "source": [
    "\n"
   ]
  }
 ],
 "metadata": {
  "kernelspec": {
   "display_name": "Python 3 (ipykernel)",
   "language": "python",
   "name": "python3"
  },
  "language_info": {
   "codemirror_mode": {
    "name": "ipython",
    "version": 3
   },
   "file_extension": ".py",
   "mimetype": "text/x-python",
   "name": "python",
   "nbconvert_exporter": "python",
   "pygments_lexer": "ipython3",
   "version": "3.10.6"
  }
 },
 "nbformat": 4,
 "nbformat_minor": 5
}
