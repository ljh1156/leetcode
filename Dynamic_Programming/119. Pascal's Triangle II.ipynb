{
 "cells": [
  {
   "cell_type": "code",
   "execution_count": 1,
   "id": "31663192",
   "metadata": {},
   "outputs": [],
   "source": [
    "from typing import *"
   ]
  },
  {
   "cell_type": "code",
   "execution_count": 15,
   "id": "2475dbcc",
   "metadata": {},
   "outputs": [],
   "source": [
    "class Solution:\n",
    "    def getRow(self, rowIndex: int) -> List[int]:\n",
    "        answer = []\n",
    "        for i in range(0, rowIndex+1):\n",
    "            row = []\n",
    "            print(i)\n",
    "            for j in range(0, i+1):\n",
    "                print(j)\n",
    "\n",
    "                if j == 0 or j == i                                                                                         :\n",
    "                    row.append(1)\n",
    "                else:\n",
    "                    row.append(answer[i-1][j-1]+answer[i-1][j])\n",
    "                print(row)\n",
    "            answer.append(row)\n",
    "            #print(answer[0])\n",
    "            print(row)\n",
    "        return row\n",
    "        #return answer"
   ]
  },
  {
   "cell_type": "code",
   "execution_count": 16,
   "id": "7d379217",
   "metadata": {},
   "outputs": [
    {
     "name": "stdout",
     "output_type": "stream",
     "text": [
      "0\n",
      "0\n",
      "[1]\n",
      "[1]\n",
      "1\n",
      "0\n",
      "[1]\n",
      "1\n",
      "[1, 1]\n",
      "[1, 1]\n",
      "2\n",
      "0\n",
      "[1]\n",
      "1\n",
      "[1, 2]\n",
      "2\n",
      "[1, 2, 1]\n",
      "[1, 2, 1]\n",
      "3\n",
      "0\n",
      "[1]\n",
      "1\n",
      "[1, 3]\n",
      "2\n",
      "[1, 3, 3]\n",
      "3\n",
      "[1, 3, 3, 1]\n",
      "[1, 3, 3, 1]\n"
     ]
    },
    {
     "data": {
      "text/plain": [
       "[1, 3, 3, 1]"
      ]
     },
     "execution_count": 16,
     "metadata": {},
     "output_type": "execute_result"
    }
   ],
   "source": [
    "sol = Solution()\n",
    "sol.getRow(\n",
    "    rowIndex = 3\n",
    ")"
   ]
  },
  {
   "cell_type": "code",
   "execution_count": null,
   "id": "772dc524",
   "metadata": {},
   "outputs": [],
   "source": []
  }
 ],
 "metadata": {
  "kernelspec": {
   "display_name": "Python 3 (ipykernel)",
   "language": "python",
   "name": "python3"
  },
  "language_info": {
   "codemirror_mode": {
    "name": "ipython",
    "version": 3
   },
   "file_extension": ".py",
   "mimetype": "text/x-python",
   "name": "python",
   "nbconvert_exporter": "python",
   "pygments_lexer": "ipython3",
   "version": "3.10.6"
  }
 },
 "nbformat": 4,
 "nbformat_minor": 5
}
