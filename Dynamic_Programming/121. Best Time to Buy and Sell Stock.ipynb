{
 "cells": [
  {
   "cell_type": "code",
   "execution_count": 1,
   "id": "65d73c6f",
   "metadata": {},
   "outputs": [],
   "source": [
    "from typing import *"
   ]
  },
  {
   "cell_type": "code",
   "execution_count": 23,
   "id": "ccd22846",
   "metadata": {},
   "outputs": [],
   "source": [
    "class Solution:\n",
    "    def maxProfit(self, prices: List[int]) -> int:\n",
    "        \n",
    "        max = 0\n",
    "        idx = len(prices) - 1\n",
    "        while(1):\n",
    "            print(prices[idx])\n",
    "            #prices[idx] = max - prices[idx]\n",
    "            if prices[idx] > max:\n",
    "                max = prices[idx]\n",
    "            prices[idx] = max - prices[idx]\n",
    "            idx -= 1\n",
    "            if idx < 0:\n",
    "                break\n",
    "            print(prices)\n",
    "        max = 0\n",
    "        for price in prices[0:-1]:\n",
    "            if price > max:\n",
    "                max = price\n",
    "        return max\n",
    "        #for i in range(len(prices) - 1, -1):\n",
    "         #   print(i)\n",
    "        \n",
    "        #for i in range(0, len(prices) -1):\n",
    "        #    max = 0\n",
    "        #    for j in range(i+1, len(prices)):\n",
    "        #        if prices[j] > max:\n",
    "        #            max = prices[j]\n",
    "        #    prices[i] = max - prices[i]\n",
    "        #    print(prices[i])\n",
    "       ## max = 0\n",
    "       # for price in prices[0:-1]:\n",
    "       #     if price > max:\n",
    "       #         max = price\n",
    "       # return max\n",
    "            \n",
    "                "
   ]
  },
  {
   "cell_type": "code",
   "execution_count": 24,
   "id": "774e94f5",
   "metadata": {},
   "outputs": [
    {
     "name": "stdout",
     "output_type": "stream",
     "text": [
      "4\n",
      "[7, 1, 5, 3, 6, 0]\n",
      "6\n",
      "[7, 1, 5, 3, 0, 0]\n",
      "3\n",
      "[7, 1, 5, 3, 0, 0]\n",
      "5\n",
      "[7, 1, 1, 3, 0, 0]\n",
      "1\n",
      "[7, 5, 1, 3, 0, 0]\n",
      "7\n"
     ]
    },
    {
     "data": {
      "text/plain": [
       "5"
      ]
     },
     "execution_count": 24,
     "metadata": {},
     "output_type": "execute_result"
    }
   ],
   "source": [
    "sol = Solution()\n",
    "sol.maxProfit(\n",
    "    prices = [7,1,5,3,6,4]\n",
    ")"
   ]
  },
  {
   "cell_type": "code",
   "execution_count": null,
   "id": "0cbc1988",
   "metadata": {},
   "outputs": [],
   "source": []
  }
 ],
 "metadata": {
  "kernelspec": {
   "display_name": "Python 3 (ipykernel)",
   "language": "python",
   "name": "python3"
  },
  "language_info": {
   "codemirror_mode": {
    "name": "ipython",
    "version": 3
   },
   "file_extension": ".py",
   "mimetype": "text/x-python",
   "name": "python",
   "nbconvert_exporter": "python",
   "pygments_lexer": "ipython3",
   "version": "3.10.6"
  }
 },
 "nbformat": 4,
 "nbformat_minor": 5
}
