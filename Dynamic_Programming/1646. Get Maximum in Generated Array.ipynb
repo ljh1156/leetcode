{
 "cells": [
  {
   "cell_type": "code",
   "execution_count": 1,
   "id": "33546bca",
   "metadata": {},
   "outputs": [],
   "source": [
    "from typing import *"
   ]
  },
  {
   "cell_type": "code",
   "execution_count": 13,
   "id": "d7be2dac",
   "metadata": {},
   "outputs": [],
   "source": [
    "class Solution:\n",
    "    def getMaximumGenerated(self, n: int) -> int:\n",
    "        if n == 0: return 0\n",
    "        elif n == 1: return 1\n",
    "        nums = [0, 1]\n",
    "        for i in range(2, n+1):\n",
    "            print(i)\n",
    "            print(nums)\n",
    "            if i % 2 == 0:\n",
    "                nums.append(nums[int(i/2)])\n",
    "            else:\n",
    "                nums.append(nums[int(i/2)] + nums[int(i/2) + 1])\n",
    "        \n",
    "        return max(nums)\n",
    "  #      return 0"
   ]
  },
  {
   "cell_type": "code",
   "execution_count": 14,
   "id": "1b4b83f8",
   "metadata": {},
   "outputs": [
    {
     "name": "stdout",
     "output_type": "stream",
     "text": [
      "2\n",
      "[0, 1]\n",
      "3\n",
      "[0, 1, 1]\n",
      "4\n",
      "[0, 1, 1, 2]\n"
     ]
    },
    {
     "data": {
      "text/plain": [
       "2"
      ]
     },
     "execution_count": 14,
     "metadata": {},
     "output_type": "execute_result"
    }
   ],
   "source": [
    "sol = Solution()\n",
    "sol.getMaximumGenerated(\n",
    "    n = 4\n",
    ")"
   ]
  },
  {
   "cell_type": "code",
   "execution_count": null,
   "id": "944a0a33",
   "metadata": {},
   "outputs": [],
   "source": []
  }
 ],
 "metadata": {
  "kernelspec": {
   "display_name": "Python 3 (ipykernel)",
   "language": "python",
   "name": "python3"
  },
  "language_info": {
   "codemirror_mode": {
    "name": "ipython",
    "version": 3
   },
   "file_extension": ".py",
   "mimetype": "text/x-python",
   "name": "python",
   "nbconvert_exporter": "python",
   "pygments_lexer": "ipython3",
   "version": "3.10.6"
  }
 },
 "nbformat": 4,
 "nbformat_minor": 5
}
