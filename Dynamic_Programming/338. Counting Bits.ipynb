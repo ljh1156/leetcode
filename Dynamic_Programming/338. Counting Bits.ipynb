{
 "cells": [
  {
   "cell_type": "code",
   "execution_count": 1,
   "id": "f59717f9",
   "metadata": {},
   "outputs": [],
   "source": [
    "from typing import *"
   ]
  },
  {
   "cell_type": "code",
   "execution_count": 20,
   "id": "f024b1ce",
   "metadata": {},
   "outputs": [],
   "source": [
    "class Solution:\n",
    "    def countBits(self, n: int) -> List[int]:\n",
    "        answer = []\n",
    "        answer.append(0)\n",
    "        for i in range(1, n+1):\n",
    "            #if i % 2 == 0:\n",
    "            #    answer.append(1)\n",
    "            #else:\n",
    "            answer.append(answer[int(i/2)] + i%2)\n",
    "            #answer.append(0)\n",
    "            print(i)\n",
    "            print(answer)\n",
    "            print(answer[int(i/2)])\n",
    "            #print(answer[int(i/2)])\n",
    "        return answer"
   ]
  },
  {
   "cell_type": "code",
   "execution_count": 21,
   "id": "a7baca9c",
   "metadata": {},
   "outputs": [
    {
     "name": "stdout",
     "output_type": "stream",
     "text": [
      "1\n",
      "[0, 1]\n",
      "0\n",
      "2\n",
      "[0, 1, 1]\n",
      "1\n",
      "3\n",
      "[0, 1, 1, 2]\n",
      "1\n",
      "4\n",
      "[0, 1, 1, 2, 1]\n",
      "1\n",
      "5\n",
      "[0, 1, 1, 2, 1, 2]\n",
      "1\n",
      "6\n",
      "[0, 1, 1, 2, 1, 2, 2]\n",
      "2\n",
      "7\n",
      "[0, 1, 1, 2, 1, 2, 2, 3]\n",
      "2\n",
      "8\n",
      "[0, 1, 1, 2, 1, 2, 2, 3, 1]\n",
      "1\n",
      "9\n",
      "[0, 1, 1, 2, 1, 2, 2, 3, 1, 2]\n",
      "1\n",
      "10\n",
      "[0, 1, 1, 2, 1, 2, 2, 3, 1, 2, 2]\n",
      "2\n",
      "11\n",
      "[0, 1, 1, 2, 1, 2, 2, 3, 1, 2, 2, 3]\n",
      "2\n",
      "12\n",
      "[0, 1, 1, 2, 1, 2, 2, 3, 1, 2, 2, 3, 2]\n",
      "2\n",
      "13\n",
      "[0, 1, 1, 2, 1, 2, 2, 3, 1, 2, 2, 3, 2, 3]\n",
      "2\n",
      "14\n",
      "[0, 1, 1, 2, 1, 2, 2, 3, 1, 2, 2, 3, 2, 3, 3]\n",
      "3\n",
      "15\n",
      "[0, 1, 1, 2, 1, 2, 2, 3, 1, 2, 2, 3, 2, 3, 3, 4]\n",
      "3\n"
     ]
    },
    {
     "data": {
      "text/plain": [
       "[0, 1, 1, 2, 1, 2, 2, 3, 1, 2, 2, 3, 2, 3, 3, 4]"
      ]
     },
     "execution_count": 21,
     "metadata": {},
     "output_type": "execute_result"
    }
   ],
   "source": [
    "sol = Solution()\n",
    "sol.countBits(15)"
   ]
  },
  {
   "cell_type": "code",
   "execution_count": null,
   "id": "ef5696ee",
   "metadata": {},
   "outputs": [],
   "source": []
  }
 ],
 "metadata": {
  "kernelspec": {
   "display_name": "Python 3 (ipykernel)",
   "language": "python",
   "name": "python3"
  },
  "language_info": {
   "codemirror_mode": {
    "name": "ipython",
    "version": 3
   },
   "file_extension": ".py",
   "mimetype": "text/x-python",
   "name": "python",
   "nbconvert_exporter": "python",
   "pygments_lexer": "ipython3",
   "version": "3.10.6"
  }
 },
 "nbformat": 4,
 "nbformat_minor": 5
}
