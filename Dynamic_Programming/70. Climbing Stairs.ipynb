{
 "cells": [
  {
   "cell_type": "code",
   "execution_count": 1,
   "id": "dbf3cf6d",
   "metadata": {},
   "outputs": [],
   "source": [
    "import typing"
   ]
  },
  {
   "cell_type": "code",
   "execution_count": 30,
   "id": "6539c9a5",
   "metadata": {},
   "outputs": [],
   "source": [
    "class Solution:\n",
    "    def climbStairs(self, n: int) -> int:\n",
    "        \n",
    "        if n == 1: return 1\n",
    "        if n == 2: return 2\n",
    "        elif n <= 0: return 0\n",
    "        \n",
    "        tsteps = 1\n",
    "        osteps = 2\n",
    "        allsteps = 0\n",
    "        for i in range(2, n):\n",
    "            #print(i)\n",
    "            allsteps = osteps + tsteps\n",
    "            #print(allsteps)\n",
    "            tsteps = osteps\n",
    "            osteps = allsteps\n",
    "        return allsteps\n",
    "            \n",
    "            \n",
    "        \n",
    "        #return self.climbStairs(n - 1) + self.climbStairs(n - 2)"
   ]
  },
  {
   "cell_type": "code",
   "execution_count": 32,
   "id": "162dda5b",
   "metadata": {},
   "outputs": [
    {
     "name": "stdout",
     "output_type": "stream",
     "text": [
      "2\n",
      "3\n",
      "3\n",
      "5\n",
      "4\n",
      "8\n",
      "5\n",
      "13\n",
      "6\n",
      "21\n",
      "7\n",
      "34\n",
      "8\n",
      "55\n",
      "9\n",
      "89\n",
      "10\n",
      "144\n",
      "11\n",
      "233\n",
      "12\n",
      "377\n",
      "13\n",
      "610\n",
      "14\n",
      "987\n",
      "15\n",
      "1597\n",
      "16\n",
      "2584\n",
      "17\n",
      "4181\n",
      "18\n",
      "6765\n",
      "19\n",
      "10946\n",
      "20\n",
      "17711\n",
      "21\n",
      "28657\n",
      "22\n",
      "46368\n",
      "23\n",
      "75025\n",
      "24\n",
      "121393\n",
      "25\n",
      "196418\n",
      "26\n",
      "317811\n",
      "27\n",
      "514229\n",
      "28\n",
      "832040\n",
      "29\n",
      "1346269\n",
      "30\n",
      "2178309\n",
      "31\n",
      "3524578\n",
      "32\n",
      "5702887\n",
      "33\n",
      "9227465\n",
      "34\n",
      "14930352\n"
     ]
    },
    {
     "data": {
      "text/plain": [
       "14930352"
      ]
     },
     "execution_count": 32,
     "metadata": {},
     "output_type": "execute_result"
    }
   ],
   "source": [
    "sol = Solution()\n",
    "sol.climbStairs(\n",
    "    n = 35\n",
    ")"
   ]
  },
  {
   "cell_type": "code",
   "execution_count": null,
   "id": "761f3ac5",
   "metadata": {},
   "outputs": [],
   "source": []
  }
 ],
 "metadata": {
  "kernelspec": {
   "display_name": "Python 3 (ipykernel)",
   "language": "python",
   "name": "python3"
  },
  "language_info": {
   "codemirror_mode": {
    "name": "ipython",
    "version": 3
   },
   "file_extension": ".py",
   "mimetype": "text/x-python",
   "name": "python",
   "nbconvert_exporter": "python",
   "pygments_lexer": "ipython3",
   "version": "3.10.6"
  }
 },
 "nbformat": 4,
 "nbformat_minor": 5
}
