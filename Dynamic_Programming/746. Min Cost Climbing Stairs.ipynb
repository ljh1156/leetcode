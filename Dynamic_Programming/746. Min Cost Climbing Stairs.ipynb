{
 "cells": [
  {
   "cell_type": "code",
   "execution_count": 1,
   "id": "42cdd380",
   "metadata": {},
   "outputs": [],
   "source": [
    "from typing import *"
   ]
  },
  {
   "cell_type": "code",
   "execution_count": 26,
   "id": "4b239354",
   "metadata": {},
   "outputs": [],
   "source": [
    "class Solution:\n",
    "    def minCostClimbingStairs(self, cost: List[int]) -> int:\n",
    "        \n",
    "        total = [0, 0]\n",
    "        if len(cost) < 2 : return 0\n",
    "        for i in range(2, len(cost)+1):\n",
    "            if total[i-1] + cost[i|-1] < total[i-2] + cost[i-2]:\n",
    "                total.append(total[i-1] + cost[i-1])\n",
    "            else:\n",
    "                total.append(total[i-2] + cost[i-2])\n",
    "            print(total)\n",
    "        return total[-1]\n",
    "        \n",
    "            \n",
    "#        \n",
    "#        idx = len(cost) + 1\n",
    "#        while(1):\n",
    "#            idx -= 1\n",
    "#            print(idx)\n",
    "#            if idx < 0: break\n",
    "        #for i in range(len(cost), -1):\n",
    "         #   print(i)\n",
    "        \n",
    "        return 0"
   ]
  },
  {
   "cell_type": "code",
   "execution_count": 27,
   "id": "db15e190",
   "metadata": {},
   "outputs": [
    {
     "name": "stdout",
     "output_type": "stream",
     "text": [
      "[0, 0, 1]\n"
     ]
    },
    {
     "data": {
      "text/plain": [
       "1"
      ]
     },
     "execution_count": 27,
     "metadata": {},
     "output_type": "execute_result"
    }
   ],
   "source": [
    "sol = Solution()\n",
    "sol.minCostClimbingStairs(\n",
    "    cost = [1,100]\n",
    ")"
   ]
  },
  {
   "cell_type": "code",
   "execution_count": null,
   "id": "f48919a7",
   "metadata": {},
   "outputs": [],
   "source": []
  },
  {
   "cell_type": "code",
   "execution_count": null,
   "id": "5170ad2c",
   "metadata": {},
   "outputs": [],
   "source": []
  }
 ],
 "metadata": {
  "kernelspec": {
   "display_name": "Python 3 (ipykernel)",
   "language": "python",
   "name": "python3"
  },
  "language_info": {
   "codemirror_mode": {
    "name": "ipython",
    "version": 3
   },
   "file_extension": ".py",
   "mimetype": "text/x-python",
   "name": "python",
   "nbconvert_exporter": "python",
   "pygments_lexer": "ipython3",
   "version": "3.10.6"
  }
 },
 "nbformat": 4,
 "nbformat_minor": 5
}
